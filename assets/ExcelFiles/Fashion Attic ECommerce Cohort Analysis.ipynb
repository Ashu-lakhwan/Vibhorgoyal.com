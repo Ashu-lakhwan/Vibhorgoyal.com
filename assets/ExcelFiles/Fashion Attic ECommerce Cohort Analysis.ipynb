{
 "cells": [
  {
   "cell_type": "markdown",
   "metadata": {},
   "source": [
    "# Fashion Attic ECommerce Organisation's Transactions Data Based Cohort Analysis"
   ]
  },
  {
   "cell_type": "markdown",
   "metadata": {},
   "source": [
    "***"
   ]
  },
  {
   "cell_type": "markdown",
   "metadata": {},
   "source": [
    "# Cohort Analysis Basics\n",
    "\n",
    "\n",
    "> **Understanding the retention rate for the Fashion Attic ECommerce organisation.** \n",
    "\n",
    "\n",
    "A descriptive analytics technique is cohort analysis. Customers are divided into mutually exclusive cohorts, which are then tracked over time. Vanity indicators don't offer the same level of perspective as cohort research. It aids in the deeper interpretation of high-level patterns by supplying metrics around the product and consumer lifecycle.\n",
    "\n",
    "\n",
    "**Generally there are three majot types of Cohort:**\n",
    "- Time cohorts : customers who signed up for a product or service during a particular time frame.\n",
    "- Behavior cohorts : customers who purchased a product or subscribed to a service in the past. \n",
    "- Size cohorts : refer to the various sizes of customers who purchase company’s products or services.\n",
    "\n",
    "\n",
    "However, we will be performing **Cohort Analysis based on Time**. Customers will be divided into acquisition cohorts depending on the month of their first purchase. The cohort index would then be assigned to each of the customer's purchases, which will represent the number of months since the first transaction.\n",
    "\n",
    "\n",
    "\n",
    "Here, we will be dealing with mainly on monthly basis for \n",
    "- transaction_date  \n",
    "- customer_id\n",
    "- standard_cost \n",
    "- list_price\n",
    "\n"
   ]
  },
  {
   "cell_type": "markdown",
   "metadata": {},
   "source": [
    "<div class=\"alert alert-block alert-info\">\n",
    "<b>Cohort:</b> A cohort is a collection of users who have something in common. A traditional cohort, for example, divides people by the week or month of which they were first acquired. When referring to non-time-dependent groupings, the term segment is often used instead of cohort.\n",
    "</div>\n",
    "\n"
   ]
  },
  {
   "cell_type": "markdown",
   "metadata": {},
   "source": [
    "\n",
    "\n",
    "#### Dataset: [Customer_transaction_dataset](https://www.kaggle.com/archit9406/customer-transaction-dataset)\n",
    "\n",
    "\n",
    "\n",
    "\n",
    "#### Objective:\n",
    "-  Finding the percentage of active customers compared to the total number of customers after each month: Customer Segmentations\n",
    "-  List price monthly cohort view\n",
    "-  Standard price monthly cohort view"
   ]
  },
  {
   "cell_type": "markdown",
   "metadata": {},
   "source": [
    "***"
   ]
  },
  {
   "cell_type": "markdown",
   "metadata": {},
   "source": [
    "# Cohort Analysis  Basics\n"
   ]
  },
  {
   "cell_type": "markdown",
   "metadata": {},
   "source": [
    "# Step involved in  Cohort Retention Rate Analysis\n",
    "###### Click each heading to jump to the section\n",
    "\n",
    "\n",
    "\n",
    "### 1.  [Data loading and cleaning](#Data-loading-and-cleaning)\n",
    "\n",
    "\n",
    "### 2. [Assigned the cohorts and calculated the monthly offset](#Assigned-the-cohorts-and-calculated-the-monthly-offset)\n",
    "\n",
    "**Step 2.1** \n",
    "\n",
    "* Truncate date object in into needed one(here we need month so transaction_date)\n",
    "* Create groupby object with target column ( here, customer_id)\n",
    "* Transform with a min() function to assign the smallest transaction date in month value to each customer. \n",
    "\n",
    "***The result of this process is the acquisition month cohort for each customer i.e. we have assigned the acquisition month cohort to each customer.***\n",
    "\n",
    "\n",
    "**Step 2.2** \n",
    "\n",
    "\n",
    "* Calculate Time offset by extracting integer values of the year, month and day from a datetime() object.\n",
    "* Calculate the number of months between any transaction and the first transaction for each customer. We will use the TransactionMonth and CohortMonth values to do this.\n",
    "\n",
    "***The result of this will be cohortIndex i.e, difference between “TransactionMonth ” and “CohortMonth” in terms of the number of months and call the column “cohortIndex”.***\n",
    "\n",
    "**Step 2.3** \n",
    "\n",
    "* Create a groupby object with CohortMonth and CohortIndex.\n",
    "* Count number of customers in each group by applying pandas nunique() function.\n",
    "* Reset the index and create a pandas pivot with CohortMonth in the rows, CohortIndex in the columns, and customer_id counts as values. \n",
    " \n",
    " \n",
    "***Result of this will be the table that will serve as the basis for  calculating retention rate  and other matrices as well.***\n",
    "\n",
    "\n",
    "\n",
    "###  3. [Calculate business metrics: Retention rate](#Calculate-business-metrics:-Retention-rate)\n",
    "\n",
    "> Retention measures how many customers from each of the cohort have returned in the subsequent months.\n",
    "\n",
    "* Using the dataframe called cohort_counts we will select the First columns(equals to total number of customer in cohorts)\n",
    "* Calculate the ratio of how many of these customers came back in the subsequent months.\n",
    "\n",
    "***The result gives a retention rate.***   \n",
    "\n",
    "### 4. [Visualizing the retention rate](#Visualizing-the-retention-rate)\n",
    "\n",
    "* Use seaborn heatmap to visualize thus obtained cohort results.\n",
    "\n",
    "\n",
    "### 5. [Interpreting the retention rate](#Intrrpreting-the-retention-rate)"
   ]
  },
  {
   "cell_type": "markdown",
   "metadata": {},
   "source": [
    " ###  [Average standard cost monthly cohort](#Average-standard-cost-monthly-cohort)\n",
    " \n",
    " ###  [Average list price monthly cohort](#Average-list-price-monthly-cohort)"
   ]
  },
  {
   "cell_type": "markdown",
   "metadata": {},
   "source": [
    "***"
   ]
  },
  {
   "cell_type": "markdown",
   "metadata": {},
   "source": [
    "<div class=\"alert alert-block alert-info\">\n",
    "<b>After understanding and working with this notebook, you will be able to do:</b> \n",
    "    <li>Understand what is cohort and cohort analysis</li>\n",
    "<li>Handling missing values</li>\n",
    "    <li> Month extraction from date</li>\n",
    "<li> Assign cohort to each transaction </li>\n",
    "<li> Assigning cohort index to each transaction</li>\n",
    "<li> Calculate number of unique customers in each group </li>\n",
    "    <li> Create cohort table for retention rate</li>\n",
    "<li> Visualize  the cohort table using heatmap</li>\n",
    "    <li> Interpreting the retention rate</li>\n",
    "<li> Work with other business  matrices</li>\n",
    "</div>"
   ]
  },
  {
   "cell_type": "markdown",
   "metadata": {},
   "source": [
    "# Importing Libraries"
   ]
  },
  {
   "cell_type": "code",
   "execution_count": 2,
   "metadata": {},
   "outputs": [],
   "source": [
    "\n",
    "import pandas as pd\n",
    "import seaborn as sns\n",
    "\n",
    "import matplotlib.pyplot as plt\n",
    "import numpy as np\n",
    "import datetime as dt\n",
    "\n",
    "import missingno as msno\n",
    "from textwrap import wrap"
   ]
  },
  {
   "cell_type": "markdown",
   "metadata": {},
   "source": [
    "### Data loading and cleaning"
   ]
  },
  {
   "cell_type": "code",
   "execution_count": 3,
   "metadata": {},
   "outputs": [],
   "source": [
    "# Loading dataset\n",
    "\n",
    "transaction_df = pd.read_excel('Customer_Data.xlsx')"
   ]
  },
  {
   "cell_type": "code",
   "execution_count": 4,
   "metadata": {},
   "outputs": [
    {
     "data": {
      "text/html": [
       "<div>\n",
       "<style scoped>\n",
       "    .dataframe tbody tr th:only-of-type {\n",
       "        vertical-align: middle;\n",
       "    }\n",
       "\n",
       "    .dataframe tbody tr th {\n",
       "        vertical-align: top;\n",
       "    }\n",
       "\n",
       "    .dataframe thead th {\n",
       "        text-align: right;\n",
       "    }\n",
       "</style>\n",
       "<table border=\"1\" class=\"dataframe\">\n",
       "  <thead>\n",
       "    <tr style=\"text-align: right;\">\n",
       "      <th></th>\n",
       "      <th>transaction_id</th>\n",
       "      <th>customer_id</th>\n",
       "      <th>transaction_date</th>\n",
       "      <th>list_price</th>\n",
       "      <th>standard_cost</th>\n",
       "    </tr>\n",
       "  </thead>\n",
       "  <tbody>\n",
       "    <tr>\n",
       "      <th>0</th>\n",
       "      <td>514889</td>\n",
       "      <td>Debbie Weaver</td>\n",
       "      <td>2021-01-01</td>\n",
       "      <td>20.0</td>\n",
       "      <td>16.00</td>\n",
       "    </tr>\n",
       "    <tr>\n",
       "      <th>1</th>\n",
       "      <td>514890</td>\n",
       "      <td>Rhonda Franklin</td>\n",
       "      <td>2021-01-01</td>\n",
       "      <td>14.0</td>\n",
       "      <td>17.00</td>\n",
       "    </tr>\n",
       "    <tr>\n",
       "      <th>2</th>\n",
       "      <td>514891</td>\n",
       "      <td>Charli Rhoades</td>\n",
       "      <td>2021-01-01</td>\n",
       "      <td>14.0</td>\n",
       "      <td>18.36</td>\n",
       "    </tr>\n",
       "    <tr>\n",
       "      <th>3</th>\n",
       "      <td>514892</td>\n",
       "      <td>Keena Kandel Knisley</td>\n",
       "      <td>2021-01-01</td>\n",
       "      <td>10.0</td>\n",
       "      <td>13.00</td>\n",
       "    </tr>\n",
       "    <tr>\n",
       "      <th>4</th>\n",
       "      <td>514893</td>\n",
       "      <td>Elisabeth Allen</td>\n",
       "      <td>2021-01-01</td>\n",
       "      <td>12.0</td>\n",
       "      <td>15.90</td>\n",
       "    </tr>\n",
       "  </tbody>\n",
       "</table>\n",
       "</div>"
      ],
      "text/plain": [
       "   transaction_id           customer_id transaction_date  list_price  \\\n",
       "0          514889         Debbie Weaver       2021-01-01        20.0   \n",
       "1          514890       Rhonda Franklin       2021-01-01        14.0   \n",
       "2          514891        Charli Rhoades       2021-01-01        14.0   \n",
       "3          514892  Keena Kandel Knisley       2021-01-01        10.0   \n",
       "4          514893       Elisabeth Allen       2021-01-01        12.0   \n",
       "\n",
       "   standard_cost  \n",
       "0          16.00  \n",
       "1          17.00  \n",
       "2          18.36  \n",
       "3          13.00  \n",
       "4          15.90  "
      ]
     },
     "execution_count": 4,
     "metadata": {},
     "output_type": "execute_result"
    }
   ],
   "source": [
    "# View data\n",
    "transaction_df.head()\n"
   ]
  },
  {
   "cell_type": "markdown",
   "metadata": {},
   "source": [
    "### Checking and working with missing value with wonderful missingno library\n",
    "\n",
    "\n",
    "<div class=\"alert alert-block alert-success\">\n",
    "<b><a href=\"https://libraries.io/pypi/missingno\" target=_blank> Click to read more about missingno library. </a></b> \n",
    "   \n",
    "</div>\n"
   ]
  },
  {
   "cell_type": "code",
   "execution_count": 5,
   "metadata": {},
   "outputs": [
    {
     "data": {
      "text/plain": [
       "<AxesSubplot:>"
      ]
     },
     "execution_count": 5,
     "metadata": {},
     "output_type": "execute_result"
    },
    {
     "data": {
      "image/png": "[encoded data removed]",
      "text/plain": [
       "<Figure size 1800x720 with 3 Axes>"
      ]
     },
     "metadata": {
      "needs_background": "light"
     },
     "output_type": "display_data"
    }
   ],
   "source": [
    "\n",
    "msno.bar(transaction_df)"
   ]
  },
  {
   "cell_type": "markdown",
   "metadata": {},
   "source": [
    "Here, we see that in each column we need to have 20000 data,  but in colums *online_order, brand, product_line, product_class and so on*, we have some missing values.\n",
    "\n",
    "Now, further we will inspect missing values using **isnull()function (missingno and isnull() gives same result)**, we  will inspect the dataset and we will replace it with NaN and we will impute it. "
   ]
  },
  {
   "cell_type": "code",
   "execution_count": 6,
   "metadata": {},
   "outputs": [
    {
     "name": "stdout",
     "output_type": "stream",
     "text": [
      "372\n"
     ]
    },
    {
     "name": "stderr",
     "output_type": "stream",
     "text": [
      "C:\\Users\\cc\\AppData\\Local\\Temp/ipykernel_19600/233259732.py:8: FutureWarning: DataFrame.mean and DataFrame.median with numeric_only=None will include datetime64 and datetime64tz columns in a future version.\n",
      "  transaction_df = transaction_df.fillna(transaction_df.mean())\n"
     ]
    },
    {
     "name": "stdout",
     "output_type": "stream",
     "text": [
      "0\n"
     ]
    },
    {
     "name": "stderr",
     "output_type": "stream",
     "text": [
      "C:\\Users\\cc\\AppData\\Local\\Temp/ipykernel_19600/233259732.py:8: FutureWarning: Dropping of nuisance columns in DataFrame reductions (with 'numeric_only=None') is deprecated; in a future version this will raise TypeError.  Select only valid columns before calling the reduction.\n",
      "  transaction_df = transaction_df.fillna(transaction_df.mean())\n"
     ]
    }
   ],
   "source": [
    "\n",
    "# Inspect missing values in the dataset\n",
    "print(transaction_df.isnull().values.sum())\n",
    "\n",
    "# Replace the ' 's with NaN\n",
    "transaction_df = transaction_df.replace(\" \",np.NaN)\n",
    "\n",
    "# Impute the missing values with mean imputation\n",
    "transaction_df = transaction_df.fillna(transaction_df.mean())\n",
    "\n",
    "# Count the number of NaNs in the dataset to verify\n",
    "print(transaction_df.isnull().values.sum())"
   ]
  },
  {
   "cell_type": "code",
   "execution_count": 7,
   "metadata": {},
   "outputs": [
    {
     "name": "stdout",
     "output_type": "stream",
     "text": [
      "<class 'pandas.core.frame.DataFrame'>\n",
      "RangeIndex: 177953 entries, 0 to 177952\n",
      "Data columns (total 5 columns):\n",
      " #   Column            Non-Null Count   Dtype         \n",
      "---  ------            --------------   -----         \n",
      " 0   transaction_id    177953 non-null  int64         \n",
      " 1   customer_id       177953 non-null  object        \n",
      " 2   transaction_date  177953 non-null  datetime64[ns]\n",
      " 3   list_price        177953 non-null  float64       \n",
      " 4   standard_cost     177953 non-null  float64       \n",
      "dtypes: datetime64[ns](1), float64(2), int64(1), object(1)\n",
      "memory usage: 6.8+ MB\n",
      "None\n",
      "0\n"
     ]
    }
   ],
   "source": [
    "print(transaction_df.info())\n",
    "for col in transaction_df.columns:\n",
    "    # Check if the column is of object type\n",
    "    if transaction_df[col].dtypes == 'object':\n",
    "        # Impute with the most frequent value\n",
    "        transaction_df[col] = transaction_df[col].fillna(transaction_df[col].value_counts().index[0])\n",
    "\n",
    "# Count the number of NaNs in the dataset and print the counts to verify\n",
    "print(transaction_df.isnull().values.sum())"
   ]
  },
  {
   "cell_type": "code",
   "execution_count": 8,
   "metadata": {},
   "outputs": [
    {
     "data": {
      "text/plain": [
       "<AxesSubplot:>"
      ]
     },
     "execution_count": 8,
     "metadata": {},
     "output_type": "execute_result"
    },
    {
     "data": {
      "image/png": "[encoded data removed]",
      "text/plain": [
       "<Figure size 1800x720 with 3 Axes>"
      ]
     },
     "metadata": {
      "needs_background": "light"
     },
     "output_type": "display_data"
    }
   ],
   "source": [
    "msno.bar(transaction_df)"
   ]
  },
  {
   "cell_type": "markdown",
   "metadata": {},
   "source": [
    "Now, we see that we have no any missing values. "
   ]
  },
  {
   "cell_type": "code",
   "execution_count": 9,
   "metadata": {},
   "outputs": [
    {
     "name": "stdout",
     "output_type": "stream",
     "text": [
      "<class 'pandas.core.frame.DataFrame'>\n",
      "RangeIndex: 177953 entries, 0 to 177952\n",
      "Data columns (total 5 columns):\n",
      " #   Column            Non-Null Count   Dtype         \n",
      "---  ------            --------------   -----         \n",
      " 0   transaction_id    177953 non-null  int64         \n",
      " 1   customer_id       177953 non-null  object        \n",
      " 2   transaction_date  177953 non-null  datetime64[ns]\n",
      " 3   list_price        177953 non-null  float64       \n",
      " 4   standard_cost     177953 non-null  float64       \n",
      "dtypes: datetime64[ns](1), float64(2), int64(1), object(1)\n",
      "memory usage: 6.8+ MB\n"
     ]
    }
   ],
   "source": [
    "transaction_df.info()"
   ]
  },
  {
   "cell_type": "markdown",
   "metadata": {},
   "source": [
    "Here we see we have  12 columes(attributes) and 20000 Data Points in dataset\n",
    "\n",
    "We have 'transaction_date'  in datetime format.\n"
   ]
  },
  {
   "cell_type": "markdown",
   "metadata": {},
   "source": [
    "***"
   ]
  },
  {
   "cell_type": "markdown",
   "metadata": {},
   "source": [
    "As we have completed our data cleaning and understanding, now we will commence the Cohort Analysis."
   ]
  },
  {
   "cell_type": "markdown",
   "metadata": {},
   "source": [
    "### Assigned the cohorts and calculated the monthly offset"
   ]
  },
  {
   "cell_type": "code",
   "execution_count": 10,
   "metadata": {},
   "outputs": [
    {
     "name": "stdout",
     "output_type": "stream",
     "text": [
      "   transaction_id           customer_id transaction_date  list_price  \\\n",
      "0          514889         Debbie Weaver       2021-01-01        20.0   \n",
      "1          514890       Rhonda Franklin       2021-01-01        14.0   \n",
      "2          514891        Charli Rhoades       2021-01-01        14.0   \n",
      "3          514892  Keena Kandel Knisley       2021-01-01        10.0   \n",
      "4          514893       Elisabeth Allen       2021-01-01        12.0   \n",
      "\n",
      "   standard_cost TransactionMonth CohortMonth  \n",
      "0          16.00       2021-01-01  2021-01-01  \n",
      "1          17.00       2021-01-01  2021-01-01  \n",
      "2          18.36       2021-01-01  2021-01-01  \n",
      "3          13.00       2021-01-01  2021-01-01  \n",
      "4          15.90       2021-01-01  2021-01-01  \n"
     ]
    }
   ],
   "source": [
    "# A function that will parse the date Time based cohort:  1 day of month\n",
    "def get_month(x): return dt.datetime(x.year, x.month, 1) \n",
    "\n",
    "# Create transaction_date column based on month and store in TransactionMonth\n",
    "transaction_df['TransactionMonth'] = transaction_df['transaction_date'].apply(get_month) \n",
    "\n",
    "# Grouping by customer_id and select the InvoiceMonth value\n",
    "grouping = transaction_df.groupby('customer_id')['TransactionMonth'] \n",
    "\n",
    "# Assigning a minimum InvoiceMonth value to the dataset\n",
    "transaction_df['CohortMonth'] = grouping.transform('min')\n",
    "\n",
    "# printing top 5 rows\n",
    "print(transaction_df.head())"
   ]
  },
  {
   "cell_type": "markdown",
   "metadata": {},
   "source": [
    "***"
   ]
  },
  {
   "cell_type": "markdown",
   "metadata": {},
   "source": [
    "**Calculating  time offset in Month as  Cohort Index** \n",
    "\n",
    "Calculating time offset for each transaction allows you to evalauate the metrics for each cohort in a comparable fashion.\n",
    "\n",
    "First, we will create 6 variables that capture the integer value of years, months and days for Transaction and Cohort Date using the get_date_int() function.\n",
    "\n",
    "\n"
   ]
  },
  {
   "cell_type": "code",
   "execution_count": 11,
   "metadata": {},
   "outputs": [],
   "source": [
    "def get_date_int(df, column):\n",
    "    year = df[column].dt.year\n",
    "    month = df[column].dt.month\n",
    "    day = df[column].dt.day\n",
    "    return year, month, day\n",
    "\n",
    "# Getting the integers for date parts from the `InvoiceDay` column\n",
    "transcation_year, transaction_month, _ = get_date_int(transaction_df, 'TransactionMonth')\n",
    "\n",
    "# Getting the integers for date parts from the `CohortDay` column\n",
    "cohort_year, cohort_month, _ = get_date_int(transaction_df, 'CohortMonth')\n"
   ]
  },
  {
   "cell_type": "markdown",
   "metadata": {},
   "source": [
    "Now we will:\n",
    "- We will calculate the difference between the Invoice Dates and Cohort dates in years, months separately.\n",
    "- then calculate the total Months difference between the two. \n",
    "- This will be our Months offset or cohort Index, which we will use in the next section to calculate retention rate."
   ]
  },
  {
   "cell_type": "code",
   "execution_count": 12,
   "metadata": {},
   "outputs": [
    {
     "name": "stdout",
     "output_type": "stream",
     "text": [
      "   transaction_id           customer_id transaction_date  list_price  \\\n",
      "0          514889         Debbie Weaver       2021-01-01        20.0   \n",
      "1          514890       Rhonda Franklin       2021-01-01        14.0   \n",
      "2          514891        Charli Rhoades       2021-01-01        14.0   \n",
      "3          514892  Keena Kandel Knisley       2021-01-01        10.0   \n",
      "4          514893       Elisabeth Allen       2021-01-01        12.0   \n",
      "\n",
      "   standard_cost TransactionMonth CohortMonth  CohortIndex  \n",
      "0          16.00       2021-01-01  2021-01-01            1  \n",
      "1          17.00       2021-01-01  2021-01-01            1  \n",
      "2          18.36       2021-01-01  2021-01-01            1  \n",
      "3          13.00       2021-01-01  2021-01-01            1  \n",
      "4          15.90       2021-01-01  2021-01-01            1  \n"
     ]
    }
   ],
   "source": [
    "#  Get the  difference in years\n",
    "years_diff = transcation_year - cohort_year\n",
    "\n",
    "# Calculate difference in months\n",
    "months_diff = transaction_month - cohort_month\n",
    "\n",
    "\n",
    "\"\"\" Extract the difference in months from all previous values\n",
    " \"+1\" in addeded at the end so that first month is marked as 1 instead of 0 for easier interpretation. \n",
    " \"\"\"\n",
    "\n",
    "transaction_df['CohortIndex'] = years_diff * 12 + months_diff  + 1 \n",
    "print(transaction_df.head(5))"
   ]
  },
  {
   "cell_type": "markdown",
   "metadata": {},
   "source": [
    " Here, at first we create a *groupby()* object with *CohortMonth and CohortIndex* and store it as grouping. \n",
    " \n",
    "Then, we call this object, select the *customer_id* column and calculate the average.\n",
    "\n",
    "Then we store the results as *cohort_data*. Then, we reset the index before calling the pivot function to be able to access the columns now stored as indices.\n",
    " \n",
    "Finally, we create a pivot table by passing \n",
    "* *CohortMonth* to the index parameter,\n",
    "* *CohortIndex* to the columns parameter, \n",
    "* *customer_id* to the values parameter. \n",
    "\n",
    "and rounding it up to 1 digit, and see what we get."
   ]
  },
  {
   "cell_type": "code",
   "execution_count": 13,
   "metadata": {},
   "outputs": [
    {
     "data": {
      "text/html": [
       "<div>\n",
       "<style scoped>\n",
       "    .dataframe tbody tr th:only-of-type {\n",
       "        vertical-align: middle;\n",
       "    }\n",
       "\n",
       "    .dataframe tbody tr th {\n",
       "        vertical-align: top;\n",
       "    }\n",
       "\n",
       "    .dataframe thead th {\n",
       "        text-align: right;\n",
       "    }\n",
       "</style>\n",
       "<table border=\"1\" class=\"dataframe\">\n",
       "  <thead>\n",
       "    <tr style=\"text-align: right;\">\n",
       "      <th></th>\n",
       "      <th>CohortMonth</th>\n",
       "      <th>CohortIndex</th>\n",
       "      <th>customer_id</th>\n",
       "    </tr>\n",
       "  </thead>\n",
       "  <tbody>\n",
       "    <tr>\n",
       "      <th>0</th>\n",
       "      <td>2021-01-01</td>\n",
       "      <td>1</td>\n",
       "      <td>4389</td>\n",
       "    </tr>\n",
       "    <tr>\n",
       "      <th>1</th>\n",
       "      <td>2021-01-01</td>\n",
       "      <td>2</td>\n",
       "      <td>2171</td>\n",
       "    </tr>\n",
       "    <tr>\n",
       "      <th>2</th>\n",
       "      <td>2021-01-01</td>\n",
       "      <td>3</td>\n",
       "      <td>2348</td>\n",
       "    </tr>\n",
       "    <tr>\n",
       "      <th>3</th>\n",
       "      <td>2021-01-01</td>\n",
       "      <td>4</td>\n",
       "      <td>2359</td>\n",
       "    </tr>\n",
       "    <tr>\n",
       "      <th>4</th>\n",
       "      <td>2021-01-01</td>\n",
       "      <td>5</td>\n",
       "      <td>2037</td>\n",
       "    </tr>\n",
       "  </tbody>\n",
       "</table>\n",
       "</div>"
      ],
      "text/plain": [
       "  CohortMonth  CohortIndex  customer_id\n",
       "0  2021-01-01            1         4389\n",
       "1  2021-01-01            2         2171\n",
       "2  2021-01-01            3         2348\n",
       "3  2021-01-01            4         2359\n",
       "4  2021-01-01            5         2037"
      ]
     },
     "execution_count": 13,
     "metadata": {},
     "output_type": "execute_result"
    }
   ],
   "source": [
    "# Counting daily active user from each chort\n",
    "grouping = transaction_df.groupby(['CohortMonth', 'CohortIndex'])\n",
    "\n",
    "\n",
    "\n",
    "# Counting number of unique customer Id's falling in each group of CohortMonth and CohortIndex\n",
    "cohort_data = grouping['customer_id'].apply(pd.Series.nunique)\n",
    "cohort_data = cohort_data.reset_index()\n",
    "\n",
    "\n",
    " # Assigning column names to the dataframe created above\n",
    "cohort_counts = cohort_data.pivot(index='CohortMonth',\n",
    "                                 columns ='CohortIndex',\n",
    "                                 values = 'customer_id')\n",
    "\n",
    "# Printing top 5 rows of Dataframe\n",
    "cohort_data.head()\n",
    "\n"
   ]
  },
  {
   "cell_type": "code",
   "execution_count": 14,
   "metadata": {},
   "outputs": [
    {
     "name": "stdout",
     "output_type": "stream",
     "text": [
      "CohortIndex      1       2       3       4       5       6       7       8   \\\n",
      "CohortMonth                                                                   \n",
      "2021-01-01   4389.0  2171.0  2348.0  2359.0  2037.0  1731.0  1837.0  1639.0   \n",
      "2021-02-01   1984.0   884.0   855.0   672.0   551.0   599.0   498.0   520.0   \n",
      "2021-03-01   2826.0  1214.0   809.0   590.0   648.0   527.0   528.0   529.0   \n",
      "2021-04-01   2608.0   753.0   516.0   512.0   413.0   407.0   429.0   384.0   \n",
      "2021-05-01   1220.0   335.0   288.0   250.0   215.0   224.0   185.0   142.0   \n",
      "2021-06-01    712.0   195.0   167.0   145.0   138.0   135.0    99.0     NaN   \n",
      "2021-07-01    925.0   253.0   199.0   206.0   155.0   121.0     NaN     NaN   \n",
      "2021-08-01    746.0   207.0   181.0   139.0   107.0     NaN     NaN     NaN   \n",
      "2021-09-01    609.0   183.0   141.0    95.0     NaN     NaN     NaN     NaN   \n",
      "2021-10-01    713.0   185.0   135.0     NaN     NaN     NaN     NaN     NaN   \n",
      "2021-11-01    591.0   123.0     NaN     NaN     NaN     NaN     NaN     NaN   \n",
      "2021-12-01    417.0     NaN     NaN     NaN     NaN     NaN     NaN     NaN   \n",
      "\n",
      "CohortIndex      9       10      11      12  \n",
      "CohortMonth                                  \n",
      "2021-01-01   1681.0  1674.0  1639.0  1330.0  \n",
      "2021-02-01    541.0   473.0   381.0     NaN  \n",
      "2021-03-01    466.0   392.0     NaN     NaN  \n",
      "2021-04-01    292.0     NaN     NaN     NaN  \n",
      "2021-05-01      NaN     NaN     NaN     NaN  \n",
      "2021-06-01      NaN     NaN     NaN     NaN  \n",
      "2021-07-01      NaN     NaN     NaN     NaN  \n",
      "2021-08-01      NaN     NaN     NaN     NaN  \n",
      "2021-09-01      NaN     NaN     NaN     NaN  \n",
      "2021-10-01      NaN     NaN     NaN     NaN  \n",
      "2021-11-01      NaN     NaN     NaN     NaN  \n",
      "2021-12-01      NaN     NaN     NaN     NaN  \n"
     ]
    }
   ],
   "source": [
    "print(cohort_counts.round(1))"
   ]
  },
  {
   "cell_type": "markdown",
   "metadata": {},
   "source": [
    "***"
   ]
  },
  {
   "cell_type": "markdown",
   "metadata": {},
   "source": [
    "### Calculate business metrics: Retention rate"
   ]
  },
  {
   "cell_type": "markdown",
   "metadata": {},
   "source": [
    "\n",
    "> The percentage of active customers compared to the total number of customers after a specific time interval is called retention rate.\n",
    "\n",
    "In the this section, we will calculate retention count for each cohort Month paired with cohort Index\n",
    "\n",
    "Now that we have count of retained customer for each *cohortMonth* and *cohortIndex*. We will calculate retention rate for each Cohort.\n",
    "\n",
    "\n",
    "We will create a pivot table for this purpose.\n"
   ]
  },
  {
   "cell_type": "code",
   "execution_count": 15,
   "metadata": {},
   "outputs": [],
   "source": [
    "\"\"\"\n",
    "Select the first column and store it to cohort_sizes as size of cohort === no. active customer in first day\n",
    "We will store the 1st column as Cohort size i.e total Number of Customers in that Cohort\n",
    "\"\"\"\n",
    "\n",
    "cohort_sizes = cohort_counts.iloc[:,0]\n",
    "\n",
    "\"\"\"\n",
    "We will divide the values in other columns with Cohort Size in order to calculate the retention rate i.e Number of Customers in Each Cohort Index\n",
    "\"\"\"\n",
    "\n",
    "retention = cohort_counts.divide(cohort_sizes, axis=0)"
   ]
  },
  {
   "cell_type": "code",
   "execution_count": 16,
   "metadata": {},
   "outputs": [
    {
     "data": {
      "text/html": [
       "<div>\n",
       "<style scoped>\n",
       "    .dataframe tbody tr th:only-of-type {\n",
       "        vertical-align: middle;\n",
       "    }\n",
       "\n",
       "    .dataframe tbody tr th {\n",
       "        vertical-align: top;\n",
       "    }\n",
       "\n",
       "    .dataframe thead th {\n",
       "        text-align: right;\n",
       "    }\n",
       "</style>\n",
       "<table border=\"1\" class=\"dataframe\">\n",
       "  <thead>\n",
       "    <tr style=\"text-align: right;\">\n",
       "      <th>CohortIndex</th>\n",
       "      <th>1</th>\n",
       "      <th>2</th>\n",
       "      <th>3</th>\n",
       "      <th>4</th>\n",
       "      <th>5</th>\n",
       "      <th>6</th>\n",
       "      <th>7</th>\n",
       "      <th>8</th>\n",
       "      <th>9</th>\n",
       "      <th>10</th>\n",
       "      <th>11</th>\n",
       "      <th>12</th>\n",
       "    </tr>\n",
       "    <tr>\n",
       "      <th>CohortMonth</th>\n",
       "      <th></th>\n",
       "      <th></th>\n",
       "      <th></th>\n",
       "      <th></th>\n",
       "      <th></th>\n",
       "      <th></th>\n",
       "      <th></th>\n",
       "      <th></th>\n",
       "      <th></th>\n",
       "      <th></th>\n",
       "      <th></th>\n",
       "      <th></th>\n",
       "    </tr>\n",
       "  </thead>\n",
       "  <tbody>\n",
       "    <tr>\n",
       "      <th>2021-01-01</th>\n",
       "      <td>100.0</td>\n",
       "      <td>49.5</td>\n",
       "      <td>53.5</td>\n",
       "      <td>53.7</td>\n",
       "      <td>46.4</td>\n",
       "      <td>39.4</td>\n",
       "      <td>41.9</td>\n",
       "      <td>37.3</td>\n",
       "      <td>38.3</td>\n",
       "      <td>38.1</td>\n",
       "      <td>37.3</td>\n",
       "      <td>30.3</td>\n",
       "    </tr>\n",
       "    <tr>\n",
       "      <th>2021-02-01</th>\n",
       "      <td>100.0</td>\n",
       "      <td>44.6</td>\n",
       "      <td>43.1</td>\n",
       "      <td>33.9</td>\n",
       "      <td>27.8</td>\n",
       "      <td>30.2</td>\n",
       "      <td>25.1</td>\n",
       "      <td>26.2</td>\n",
       "      <td>27.3</td>\n",
       "      <td>23.8</td>\n",
       "      <td>19.2</td>\n",
       "      <td>NaN</td>\n",
       "    </tr>\n",
       "    <tr>\n",
       "      <th>2021-03-01</th>\n",
       "      <td>100.0</td>\n",
       "      <td>43.0</td>\n",
       "      <td>28.6</td>\n",
       "      <td>20.9</td>\n",
       "      <td>22.9</td>\n",
       "      <td>18.6</td>\n",
       "      <td>18.7</td>\n",
       "      <td>18.7</td>\n",
       "      <td>16.5</td>\n",
       "      <td>13.9</td>\n",
       "      <td>NaN</td>\n",
       "      <td>NaN</td>\n",
       "    </tr>\n",
       "    <tr>\n",
       "      <th>2021-04-01</th>\n",
       "      <td>100.0</td>\n",
       "      <td>28.9</td>\n",
       "      <td>19.8</td>\n",
       "      <td>19.6</td>\n",
       "      <td>15.8</td>\n",
       "      <td>15.6</td>\n",
       "      <td>16.4</td>\n",
       "      <td>14.7</td>\n",
       "      <td>11.2</td>\n",
       "      <td>NaN</td>\n",
       "      <td>NaN</td>\n",
       "      <td>NaN</td>\n",
       "    </tr>\n",
       "    <tr>\n",
       "      <th>2021-05-01</th>\n",
       "      <td>100.0</td>\n",
       "      <td>27.5</td>\n",
       "      <td>23.6</td>\n",
       "      <td>20.5</td>\n",
       "      <td>17.6</td>\n",
       "      <td>18.4</td>\n",
       "      <td>15.2</td>\n",
       "      <td>11.6</td>\n",
       "      <td>NaN</td>\n",
       "      <td>NaN</td>\n",
       "      <td>NaN</td>\n",
       "      <td>NaN</td>\n",
       "    </tr>\n",
       "    <tr>\n",
       "      <th>2021-06-01</th>\n",
       "      <td>100.0</td>\n",
       "      <td>27.4</td>\n",
       "      <td>23.5</td>\n",
       "      <td>20.4</td>\n",
       "      <td>19.4</td>\n",
       "      <td>19.0</td>\n",
       "      <td>13.9</td>\n",
       "      <td>NaN</td>\n",
       "      <td>NaN</td>\n",
       "      <td>NaN</td>\n",
       "      <td>NaN</td>\n",
       "      <td>NaN</td>\n",
       "    </tr>\n",
       "    <tr>\n",
       "      <th>2021-07-01</th>\n",
       "      <td>100.0</td>\n",
       "      <td>27.4</td>\n",
       "      <td>21.5</td>\n",
       "      <td>22.3</td>\n",
       "      <td>16.8</td>\n",
       "      <td>13.1</td>\n",
       "      <td>NaN</td>\n",
       "      <td>NaN</td>\n",
       "      <td>NaN</td>\n",
       "      <td>NaN</td>\n",
       "      <td>NaN</td>\n",
       "      <td>NaN</td>\n",
       "    </tr>\n",
       "    <tr>\n",
       "      <th>2021-08-01</th>\n",
       "      <td>100.0</td>\n",
       "      <td>27.7</td>\n",
       "      <td>24.3</td>\n",
       "      <td>18.6</td>\n",
       "      <td>14.3</td>\n",
       "      <td>NaN</td>\n",
       "      <td>NaN</td>\n",
       "      <td>NaN</td>\n",
       "      <td>NaN</td>\n",
       "      <td>NaN</td>\n",
       "      <td>NaN</td>\n",
       "      <td>NaN</td>\n",
       "    </tr>\n",
       "    <tr>\n",
       "      <th>2021-09-01</th>\n",
       "      <td>100.0</td>\n",
       "      <td>30.0</td>\n",
       "      <td>23.2</td>\n",
       "      <td>15.6</td>\n",
       "      <td>NaN</td>\n",
       "      <td>NaN</td>\n",
       "      <td>NaN</td>\n",
       "      <td>NaN</td>\n",
       "      <td>NaN</td>\n",
       "      <td>NaN</td>\n",
       "      <td>NaN</td>\n",
       "      <td>NaN</td>\n",
       "    </tr>\n",
       "    <tr>\n",
       "      <th>2021-10-01</th>\n",
       "      <td>100.0</td>\n",
       "      <td>25.9</td>\n",
       "      <td>18.9</td>\n",
       "      <td>NaN</td>\n",
       "      <td>NaN</td>\n",
       "      <td>NaN</td>\n",
       "      <td>NaN</td>\n",
       "      <td>NaN</td>\n",
       "      <td>NaN</td>\n",
       "      <td>NaN</td>\n",
       "      <td>NaN</td>\n",
       "      <td>NaN</td>\n",
       "    </tr>\n",
       "    <tr>\n",
       "      <th>2021-11-01</th>\n",
       "      <td>100.0</td>\n",
       "      <td>20.8</td>\n",
       "      <td>NaN</td>\n",
       "      <td>NaN</td>\n",
       "      <td>NaN</td>\n",
       "      <td>NaN</td>\n",
       "      <td>NaN</td>\n",
       "      <td>NaN</td>\n",
       "      <td>NaN</td>\n",
       "      <td>NaN</td>\n",
       "      <td>NaN</td>\n",
       "      <td>NaN</td>\n",
       "    </tr>\n",
       "    <tr>\n",
       "      <th>2021-12-01</th>\n",
       "      <td>100.0</td>\n",
       "      <td>NaN</td>\n",
       "      <td>NaN</td>\n",
       "      <td>NaN</td>\n",
       "      <td>NaN</td>\n",
       "      <td>NaN</td>\n",
       "      <td>NaN</td>\n",
       "      <td>NaN</td>\n",
       "      <td>NaN</td>\n",
       "      <td>NaN</td>\n",
       "      <td>NaN</td>\n",
       "      <td>NaN</td>\n",
       "    </tr>\n",
       "  </tbody>\n",
       "</table>\n",
       "</div>"
      ],
      "text/plain": [
       "CohortIndex     1     2     3     4     5     6     7     8     9     10  \\\n",
       "CohortMonth                                                                \n",
       "2021-01-01   100.0  49.5  53.5  53.7  46.4  39.4  41.9  37.3  38.3  38.1   \n",
       "2021-02-01   100.0  44.6  43.1  33.9  27.8  30.2  25.1  26.2  27.3  23.8   \n",
       "2021-03-01   100.0  43.0  28.6  20.9  22.9  18.6  18.7  18.7  16.5  13.9   \n",
       "2021-04-01   100.0  28.9  19.8  19.6  15.8  15.6  16.4  14.7  11.2   NaN   \n",
       "2021-05-01   100.0  27.5  23.6  20.5  17.6  18.4  15.2  11.6   NaN   NaN   \n",
       "2021-06-01   100.0  27.4  23.5  20.4  19.4  19.0  13.9   NaN   NaN   NaN   \n",
       "2021-07-01   100.0  27.4  21.5  22.3  16.8  13.1   NaN   NaN   NaN   NaN   \n",
       "2021-08-01   100.0  27.7  24.3  18.6  14.3   NaN   NaN   NaN   NaN   NaN   \n",
       "2021-09-01   100.0  30.0  23.2  15.6   NaN   NaN   NaN   NaN   NaN   NaN   \n",
       "2021-10-01   100.0  25.9  18.9   NaN   NaN   NaN   NaN   NaN   NaN   NaN   \n",
       "2021-11-01   100.0  20.8   NaN   NaN   NaN   NaN   NaN   NaN   NaN   NaN   \n",
       "2021-12-01   100.0   NaN   NaN   NaN   NaN   NaN   NaN   NaN   NaN   NaN   \n",
       "\n",
       "CohortIndex    11    12  \n",
       "CohortMonth              \n",
       "2021-01-01   37.3  30.3  \n",
       "2021-02-01   19.2   NaN  \n",
       "2021-03-01    NaN   NaN  \n",
       "2021-04-01    NaN   NaN  \n",
       "2021-05-01    NaN   NaN  \n",
       "2021-06-01    NaN   NaN  \n",
       "2021-07-01    NaN   NaN  \n",
       "2021-08-01    NaN   NaN  \n",
       "2021-09-01    NaN   NaN  \n",
       "2021-10-01    NaN   NaN  \n",
       "2021-11-01    NaN   NaN  \n",
       "2021-12-01    NaN   NaN  "
      ]
     },
     "execution_count": 16,
     "metadata": {},
     "output_type": "execute_result"
    }
   ],
   "source": [
    "\n",
    "\n",
    "\"\"\"\n",
    "this matrix has 2 axes: \n",
    "x - cohort date (beginning of month); y - cohort maturity (in months)\n",
    "every cell is a unique count of customer for the x and y\n",
    "\n",
    "if a customer's last order was in period 2,\n",
    "they were active in period 0, 1 as well\n",
    "same for other periods\n",
    "\n",
    "\"\"\"\n",
    "\n",
    "# Coverting the retention rate into percentage and Rounding off.\n",
    "retention.round(3)*100\n",
    "\n",
    "\n"
   ]
  },
  {
   "cell_type": "markdown",
   "metadata": {},
   "source": [
    "The retention Rate dataframe represent Customer retained across Cohorts. We can read it as following:\n",
    "- Index value represents the Cohort\n",
    "- Columns represent the number of months since current Cohort\n",
    "\n"
   ]
  },
  {
   "cell_type": "markdown",
   "metadata": {},
   "source": [
    "<div class=\"alert alert-block alert-warning\">\n",
    "    <b>For instance:</b>  The value at CohortMonth <b>2017-01-01</b>, CohortIndex <b>3<b> is 35.9 and represents <b>35.9%</b> of customers from cohort <b>2017-01 </b> were retained in <b>3rd Month</b>.\n",
    "</div\n",
    "\n"
   ]
  },
  {
   "cell_type": "markdown",
   "metadata": {},
   "source": [
    "#### Also you can see from the retention Rate DataFrame:\n",
    "-  Retention Rate 1st index i.e 1st month is 100%  as all the customers for that particular customers signed up in 1st Month\n",
    "- Retention Rate may increase or decrease in Subsequent Indexes.\n",
    "- Values towards BottomRight have a lot of NaN values.\n",
    "\n",
    "\n",
    "***"
   ]
  },
  {
   "cell_type": "markdown",
   "metadata": {},
   "source": [
    "# Visualizing the retention rate"
   ]
  },
  {
   "cell_type": "markdown",
   "metadata": {},
   "source": [
    "Before we starting plotting our heatmap, let's set the index of our Retention rate dataframe to a more readable string format\n"
   ]
  },
  {
   "cell_type": "code",
   "execution_count": 17,
   "metadata": {},
   "outputs": [
    {
     "data": {
      "text/plain": [
       "Index(['2021-01', '2021-02', '2021-03', '2021-04', '2021-05', '2021-06',\n",
       "       '2021-07', '2021-08', '2021-09', '2021-10', '2021-11', '2021-12'],\n",
       "      dtype='object', name='CohortMonth')"
      ]
     },
     "execution_count": 17,
     "metadata": {},
     "output_type": "execute_result"
    }
   ],
   "source": [
    "retention.index = retention.index.strftime('%Y-%m')\n",
    "retention.index"
   ]
  },
  {
   "cell_type": "code",
   "execution_count": 18,
   "metadata": {},
   "outputs": [
    {
     "data": {
      "image/png": "[encoded data removed]",
      "text/plain": [
       "<Figure size 1152x720 with 2 Axes>"
      ]
     },
     "metadata": {
      "needs_background": "light"
     },
     "output_type": "display_data"
    }
   ],
   "source": [
    "# Initialize the figure\n",
    "plt.figure(figsize=(16, 10))\n",
    "\n",
    "# Adding a title\n",
    "plt.title('Retention Rate in percentage:- Monthly Cohorts', fontsize = 14)\n",
    "\n",
    "# Creating the seaborn based heatmap\n",
    "sns.heatmap(retention, annot=True, fmt= '.0%',cmap='YlGnBu', vmin = 0.0 , vmax = 0.6)\n",
    "plt.ylabel('Cohort Month')\n",
    "plt.xlabel('Cohort Index')\n",
    "plt.yticks( rotation='360')\n",
    "plt.show()"
   ]
  },
  {
   "cell_type": "markdown",
   "metadata": {},
   "source": [
    "### Interpreting the retention rate"
   ]
  },
  {
   "cell_type": "markdown",
   "metadata": {},
   "source": [
    "The most effective way to visualize and analyze cohort analysis data is through a heatmap, as we did above. It provides both the actual metric values and the color-coding to see the differences in the numbers visually.\n",
    "\n",
    "> If you do not have basic understanding of heatmap, you can check out my blog [Exploratory Data Analysis for Beginner Using Python](https://medium.com/analytics-vidhya/exploratory-data-analysis-for-beginner-7488d587f1ec), where I have talked about heatmaps for beginners.\n",
    "\n",
    "\n",
    "Here, We have 12 cohorts for each month and 12 cohort indexes. The darker the blue shades higher the values. Thus, if we see in 2017-07 cohort Month in 5th Cohort Index, we see the dark blue shade with  48% which means that 48% of cohorts that signed in July 2017 were active 5 months later.\n",
    "\n"
   ]
  },
  {
   "cell_type": "markdown",
   "metadata": {},
   "source": [
    "This concludes our Cohort analysis for the retention rate. Similarly, we can perform cohort analysis for other business matrices.\n",
    "\n",
    "\n",
    "As per our objective, we will see *average list  price monthly cohort * and  * average standard cost montly cohort. "
   ]
  },
  {
   "cell_type": "markdown",
   "metadata": {},
   "source": [
    "### Average standard cost monthly cohort"
   ]
  },
  {
   "cell_type": "code",
   "execution_count": 19,
   "metadata": {},
   "outputs": [],
   "source": [
    "# Create a groupby object and pass the monthly cohort and cohort index as a list\n",
    "grouping = transaction_df.groupby(['CohortMonth', 'CohortIndex']) \n",
    "\n",
    "# Calculate the standard  average cost of the standard_cost column\n",
    "cohort_data = grouping['standard_cost'].mean()\n",
    "\n",
    "# Reset the index of cohort_data before pivot\n",
    "cohort_data = cohort_data.reset_index()\n",
    "\n",
    "# Create a pivot \n",
    "average_order = cohort_data.pivot(index='CohortMonth',\n",
    "                                  columns='CohortIndex',\n",
    "                                  values='standard_cost')\n",
    "\n",
    "average_standard_cost = average_order.round(1)\n"
   ]
  },
  {
   "cell_type": "code",
   "execution_count": 20,
   "metadata": {},
   "outputs": [
    {
     "data": {
      "text/html": [
       "<div>\n",
       "<style scoped>\n",
       "    .dataframe tbody tr th:only-of-type {\n",
       "        vertical-align: middle;\n",
       "    }\n",
       "\n",
       "    .dataframe tbody tr th {\n",
       "        vertical-align: top;\n",
       "    }\n",
       "\n",
       "    .dataframe thead th {\n",
       "        text-align: right;\n",
       "    }\n",
       "</style>\n",
       "<table border=\"1\" class=\"dataframe\">\n",
       "  <thead>\n",
       "    <tr style=\"text-align: right;\">\n",
       "      <th>CohortIndex</th>\n",
       "      <th>1</th>\n",
       "      <th>2</th>\n",
       "      <th>3</th>\n",
       "      <th>4</th>\n",
       "      <th>5</th>\n",
       "      <th>6</th>\n",
       "      <th>7</th>\n",
       "      <th>8</th>\n",
       "      <th>9</th>\n",
       "      <th>10</th>\n",
       "      <th>11</th>\n",
       "      <th>12</th>\n",
       "    </tr>\n",
       "    <tr>\n",
       "      <th>CohortMonth</th>\n",
       "      <th></th>\n",
       "      <th></th>\n",
       "      <th></th>\n",
       "      <th></th>\n",
       "      <th></th>\n",
       "      <th></th>\n",
       "      <th></th>\n",
       "      <th></th>\n",
       "      <th></th>\n",
       "      <th></th>\n",
       "      <th></th>\n",
       "      <th></th>\n",
       "    </tr>\n",
       "  </thead>\n",
       "  <tbody>\n",
       "    <tr>\n",
       "      <th>2021-01-01</th>\n",
       "      <td>20.9</td>\n",
       "      <td>18.9</td>\n",
       "      <td>19.6</td>\n",
       "      <td>18.6</td>\n",
       "      <td>19.1</td>\n",
       "      <td>19.9</td>\n",
       "      <td>19.4</td>\n",
       "      <td>21.2</td>\n",
       "      <td>21.4</td>\n",
       "      <td>20.7</td>\n",
       "      <td>21.5</td>\n",
       "      <td>22.0</td>\n",
       "    </tr>\n",
       "    <tr>\n",
       "      <th>2021-02-01</th>\n",
       "      <td>21.8</td>\n",
       "      <td>20.6</td>\n",
       "      <td>19.1</td>\n",
       "      <td>19.3</td>\n",
       "      <td>20.7</td>\n",
       "      <td>20.1</td>\n",
       "      <td>21.8</td>\n",
       "      <td>23.0</td>\n",
       "      <td>21.9</td>\n",
       "      <td>20.8</td>\n",
       "      <td>23.8</td>\n",
       "      <td>NaN</td>\n",
       "    </tr>\n",
       "    <tr>\n",
       "      <th>2021-03-01</th>\n",
       "      <td>23.6</td>\n",
       "      <td>20.4</td>\n",
       "      <td>20.9</td>\n",
       "      <td>23.4</td>\n",
       "      <td>25.1</td>\n",
       "      <td>22.6</td>\n",
       "      <td>23.1</td>\n",
       "      <td>23.9</td>\n",
       "      <td>22.5</td>\n",
       "      <td>26.7</td>\n",
       "      <td>NaN</td>\n",
       "      <td>NaN</td>\n",
       "    </tr>\n",
       "    <tr>\n",
       "      <th>2021-04-01</th>\n",
       "      <td>21.6</td>\n",
       "      <td>19.4</td>\n",
       "      <td>19.5</td>\n",
       "      <td>19.9</td>\n",
       "      <td>20.9</td>\n",
       "      <td>21.2</td>\n",
       "      <td>21.0</td>\n",
       "      <td>22.0</td>\n",
       "      <td>22.0</td>\n",
       "      <td>NaN</td>\n",
       "      <td>NaN</td>\n",
       "      <td>NaN</td>\n",
       "    </tr>\n",
       "    <tr>\n",
       "      <th>2021-05-01</th>\n",
       "      <td>22.6</td>\n",
       "      <td>19.9</td>\n",
       "      <td>21.9</td>\n",
       "      <td>23.9</td>\n",
       "      <td>21.6</td>\n",
       "      <td>25.3</td>\n",
       "      <td>25.4</td>\n",
       "      <td>25.7</td>\n",
       "      <td>NaN</td>\n",
       "      <td>NaN</td>\n",
       "      <td>NaN</td>\n",
       "      <td>NaN</td>\n",
       "    </tr>\n",
       "  </tbody>\n",
       "</table>\n",
       "</div>"
      ],
      "text/plain": [
       "CohortIndex    1     2     3     4     5     6     7     8     9     10    11  \\\n",
       "CohortMonth                                                                     \n",
       "2021-01-01   20.9  18.9  19.6  18.6  19.1  19.9  19.4  21.2  21.4  20.7  21.5   \n",
       "2021-02-01   21.8  20.6  19.1  19.3  20.7  20.1  21.8  23.0  21.9  20.8  23.8   \n",
       "2021-03-01   23.6  20.4  20.9  23.4  25.1  22.6  23.1  23.9  22.5  26.7   NaN   \n",
       "2021-04-01   21.6  19.4  19.5  19.9  20.9  21.2  21.0  22.0  22.0   NaN   NaN   \n",
       "2021-05-01   22.6  19.9  21.9  23.9  21.6  25.3  25.4  25.7   NaN   NaN   NaN   \n",
       "\n",
       "CohortIndex    12  \n",
       "CohortMonth        \n",
       "2021-01-01   22.0  \n",
       "2021-02-01    NaN  \n",
       "2021-03-01    NaN  \n",
       "2021-04-01    NaN  \n",
       "2021-05-01    NaN  "
      ]
     },
     "execution_count": 20,
     "metadata": {},
     "output_type": "execute_result"
    }
   ],
   "source": [
    "average_standard_cost.head()"
   ]
  },
  {
   "cell_type": "code",
   "execution_count": 21,
   "metadata": {},
   "outputs": [
    {
     "data": {
      "text/plain": [
       "Index(['2021-01', '2021-02', '2021-03', '2021-04', '2021-05', '2021-06',\n",
       "       '2021-07', '2021-08', '2021-09', '2021-10', '2021-11', '2021-12'],\n",
       "      dtype='object', name='CohortMonth')"
      ]
     },
     "execution_count": 21,
     "metadata": {},
     "output_type": "execute_result"
    }
   ],
   "source": [
    "average_standard_cost.index = average_standard_cost.index.strftime('%Y-%m')\n",
    "average_standard_cost.index"
   ]
  },
  {
   "cell_type": "code",
   "execution_count": 22,
   "metadata": {},
   "outputs": [
    {
     "data": {
      "image/png": "[encoded data removed]",
      "text/plain": [
       "<Figure size 1152x720 with 2 Axes>"
      ]
     },
     "metadata": {
      "needs_background": "light"
     },
     "output_type": "display_data"
    }
   ],
   "source": [
    "# Initialize the figure\n",
    "plt.figure(figsize=(16, 10))\n",
    "\n",
    "# Adding a title\n",
    "plt.title('Average Standard Cost: Monthly Cohorts', fontsize = 14)\n",
    "\n",
    "# Creating the heatmap\n",
    "sns.heatmap(average_standard_cost, annot = True,vmin = 0.0, vmax =20,cmap=\"YlGnBu\", fmt='g')\n",
    "plt.ylabel('Cohort Month')\n",
    "plt.xlabel('Cohort Index')\n",
    "plt.yticks( rotation='360')\n",
    "plt.show()\n"
   ]
  },
  {
   "cell_type": "markdown",
   "metadata": {},
   "source": [
    "Average standard cost for 1st month for the first cohort(2017-01) was 553 (1st colum of first row).\n"
   ]
  },
  {
   "cell_type": "markdown",
   "metadata": {},
   "source": [
    "### Average list price monthly cohort"
   ]
  },
  {
   "cell_type": "code",
   "execution_count": 23,
   "metadata": {},
   "outputs": [
    {
     "data": {
      "text/html": [
       "<div>\n",
       "<style scoped>\n",
       "    .dataframe tbody tr th:only-of-type {\n",
       "        vertical-align: middle;\n",
       "    }\n",
       "\n",
       "    .dataframe tbody tr th {\n",
       "        vertical-align: top;\n",
       "    }\n",
       "\n",
       "    .dataframe thead th {\n",
       "        text-align: right;\n",
       "    }\n",
       "</style>\n",
       "<table border=\"1\" class=\"dataframe\">\n",
       "  <thead>\n",
       "    <tr style=\"text-align: right;\">\n",
       "      <th>CohortIndex</th>\n",
       "      <th>1</th>\n",
       "      <th>2</th>\n",
       "      <th>3</th>\n",
       "      <th>4</th>\n",
       "      <th>5</th>\n",
       "      <th>6</th>\n",
       "      <th>7</th>\n",
       "      <th>8</th>\n",
       "      <th>9</th>\n",
       "      <th>10</th>\n",
       "      <th>11</th>\n",
       "      <th>12</th>\n",
       "    </tr>\n",
       "    <tr>\n",
       "      <th>CohortMonth</th>\n",
       "      <th></th>\n",
       "      <th></th>\n",
       "      <th></th>\n",
       "      <th></th>\n",
       "      <th></th>\n",
       "      <th></th>\n",
       "      <th></th>\n",
       "      <th></th>\n",
       "      <th></th>\n",
       "      <th></th>\n",
       "      <th></th>\n",
       "      <th></th>\n",
       "    </tr>\n",
       "  </thead>\n",
       "  <tbody>\n",
       "    <tr>\n",
       "      <th>2021-01-01</th>\n",
       "      <td>16.9</td>\n",
       "      <td>15.0</td>\n",
       "      <td>15.7</td>\n",
       "      <td>15.0</td>\n",
       "      <td>15.6</td>\n",
       "      <td>16.3</td>\n",
       "      <td>15.7</td>\n",
       "      <td>17.6</td>\n",
       "      <td>17.7</td>\n",
       "      <td>16.8</td>\n",
       "      <td>17.0</td>\n",
       "      <td>17.7</td>\n",
       "    </tr>\n",
       "    <tr>\n",
       "      <th>2021-02-01</th>\n",
       "      <td>17.4</td>\n",
       "      <td>16.4</td>\n",
       "      <td>15.3</td>\n",
       "      <td>15.9</td>\n",
       "      <td>17.0</td>\n",
       "      <td>16.6</td>\n",
       "      <td>18.2</td>\n",
       "      <td>18.9</td>\n",
       "      <td>17.7</td>\n",
       "      <td>16.6</td>\n",
       "      <td>19.7</td>\n",
       "      <td>NaN</td>\n",
       "    </tr>\n",
       "    <tr>\n",
       "      <th>2021-03-01</th>\n",
       "      <td>18.9</td>\n",
       "      <td>16.2</td>\n",
       "      <td>17.0</td>\n",
       "      <td>18.9</td>\n",
       "      <td>20.5</td>\n",
       "      <td>19.2</td>\n",
       "      <td>19.4</td>\n",
       "      <td>19.6</td>\n",
       "      <td>17.9</td>\n",
       "      <td>21.1</td>\n",
       "      <td>NaN</td>\n",
       "      <td>NaN</td>\n",
       "    </tr>\n",
       "    <tr>\n",
       "      <th>2021-04-01</th>\n",
       "      <td>17.2</td>\n",
       "      <td>15.7</td>\n",
       "      <td>16.1</td>\n",
       "      <td>16.5</td>\n",
       "      <td>17.3</td>\n",
       "      <td>17.3</td>\n",
       "      <td>17.1</td>\n",
       "      <td>17.4</td>\n",
       "      <td>17.8</td>\n",
       "      <td>NaN</td>\n",
       "      <td>NaN</td>\n",
       "      <td>NaN</td>\n",
       "    </tr>\n",
       "    <tr>\n",
       "      <th>2021-05-01</th>\n",
       "      <td>20.4</td>\n",
       "      <td>16.2</td>\n",
       "      <td>18.1</td>\n",
       "      <td>19.6</td>\n",
       "      <td>17.9</td>\n",
       "      <td>20.7</td>\n",
       "      <td>20.4</td>\n",
       "      <td>20.1</td>\n",
       "      <td>NaN</td>\n",
       "      <td>NaN</td>\n",
       "      <td>NaN</td>\n",
       "      <td>NaN</td>\n",
       "    </tr>\n",
       "  </tbody>\n",
       "</table>\n",
       "</div>"
      ],
      "text/plain": [
       "CohortIndex    1     2     3     4     5     6     7     8     9     10    11  \\\n",
       "CohortMonth                                                                     \n",
       "2021-01-01   16.9  15.0  15.7  15.0  15.6  16.3  15.7  17.6  17.7  16.8  17.0   \n",
       "2021-02-01   17.4  16.4  15.3  15.9  17.0  16.6  18.2  18.9  17.7  16.6  19.7   \n",
       "2021-03-01   18.9  16.2  17.0  18.9  20.5  19.2  19.4  19.6  17.9  21.1   NaN   \n",
       "2021-04-01   17.2  15.7  16.1  16.5  17.3  17.3  17.1  17.4  17.8   NaN   NaN   \n",
       "2021-05-01   20.4  16.2  18.1  19.6  17.9  20.7  20.4  20.1   NaN   NaN   NaN   \n",
       "\n",
       "CohortIndex    12  \n",
       "CohortMonth        \n",
       "2021-01-01   17.7  \n",
       "2021-02-01    NaN  \n",
       "2021-03-01    NaN  \n",
       "2021-04-01    NaN  \n",
       "2021-05-01    NaN  "
      ]
     },
     "execution_count": 23,
     "metadata": {},
     "output_type": "execute_result"
    }
   ],
   "source": [
    "# Create a groupby object and pass the monthly cohort and cohort index as a list\n",
    "grouping = transaction_df.groupby(['CohortMonth', 'CohortIndex']) \n",
    "\n",
    "# Calculate the average of the list price column\n",
    "cohort_data = grouping['list_price'].mean()\n",
    "\n",
    "# Reset the index of cohort_data before pivot\n",
    "cohort_data = cohort_data.reset_index()\n",
    "\n",
    "# Create a pivot \n",
    "average_list = cohort_data.pivot(index='CohortMonth',\n",
    "                                  columns='CohortIndex',\n",
    "                                  values='list_price')\n",
    "\n",
    "average_list_cost = average_list.round(1)\n",
    "\n",
    "average_list_cost.head()"
   ]
  },
  {
   "cell_type": "code",
   "execution_count": 24,
   "metadata": {},
   "outputs": [
    {
     "data": {
      "text/plain": [
       "Index(['2021-01', '2021-02', '2021-03', '2021-04', '2021-05', '2021-06',\n",
       "       '2021-07', '2021-08', '2021-09', '2021-10', '2021-11', '2021-12'],\n",
       "      dtype='object', name='CohortMonth')"
      ]
     },
     "execution_count": 24,
     "metadata": {},
     "output_type": "execute_result"
    }
   ],
   "source": [
    "average_list_cost.index = average_list_cost.index.strftime('%Y-%m')\n",
    "average_list_cost.index"
   ]
  },
  {
   "cell_type": "code",
   "execution_count": 25,
   "metadata": {},
   "outputs": [
    {
     "data": {
      "image/png": "[encoded data removed]",
      "text/plain": [
       "<Figure size 1152x720 with 2 Axes>"
      ]
     },
     "metadata": {
      "needs_background": "light"
     },
     "output_type": "display_data"
    }
   ],
   "source": [
    "\n",
    "# Initialize the figure\n",
    "plt.figure(figsize=(16, 10))\n",
    "\n",
    "# Adding a title\n",
    "plt.title('Average List Price: Monthly Cohorts', fontsize = 14)\n",
    "\n",
    "# Creating the heatmap\n",
    "sns.heatmap(average_list_cost, annot = True,vmin = 0.0, vmax =20,cmap=\"nipy_spectral\", fmt='g')\n",
    "plt.ylabel('Cohort Month')\n",
    "plt.xlabel('Cohort Index')\n",
    "plt.yticks( rotation='360')\n",
    "plt.show()\n"
   ]
  },
  {
   "cell_type": "markdown",
   "metadata": {},
   "source": [
    "Average list price for 1st month for the first cohort(2017-01) was 1109.4 (1st colum of first row).\n"
   ]
  },
  {
   "cell_type": "markdown",
   "metadata": {},
   "source": [
    "***\n",
    "\n",
    "Thus, We complete our Cohort Analysis, where you learned about basic and types of cohort analysis, performing time cohorts, working with pandas pivot, and create a retention table along with visualizing it. We also learned the way to explore other matrices.\n",
    "\n",
    "> **Now, you can start creating exploring the  metrics that matters to your business on your own.**"
   ]
  }
 ],
 "metadata": {
  "kernelspec": {
   "display_name": "Python 3",
   "language": "python",
   "name": "python3"
  },
  "language_info": {
   "codemirror_mode": {
    "name": "ipython",
    "version": 3
   },
   "file_extension": ".py",
   "mimetype": "text/x-python",
   "name": "python",
   "nbconvert_exporter": "python",
   "pygments_lexer": "ipython3",
   "version": "3.10.1"
  }
 },
 "nbformat": 4,
 "nbformat_minor": 4
}
